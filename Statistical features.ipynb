{
 "cells": [
  {
   "cell_type": "code",
   "execution_count": 14,
   "metadata": {
    "collapsed": false
   },
   "outputs": [],
   "source": [
    "from scipy.stats import skew, kurtosis\n",
    "import numpy as np\n",
    "import matplotlib.pyplot as plt\n",
    "from scipy import stats\n",
    "%matplotlib inline"
   ]
  },
  {
   "cell_type": "code",
   "execution_count": 16,
   "metadata": {
    "collapsed": false
   },
   "outputs": [
    {
     "name": "stdout",
     "output_type": "stream",
     "text": [
      "Mean is 37.1666666667\n",
      "Skewness is: 0.16999752201785548\n",
      "Kurtosis is -1.7531393355613718\n"
     ]
    }
   ],
   "source": [
    "a = np.array([0,1,2,90,60,70])\n",
    "\n",
    "'''\n",
    "Mean is average of all the data points.\n",
    "'''\n",
    "mean = np.mean(a)\n",
    "print(\"Mean is\",mean)\n",
    "\n",
    "'''\n",
    "Skewness is the measure of asymmetry of a distribution of a random variable around its mean.\n",
    "If skewness > 0, the weight of the distribution is concentrated on the left, and distribution is left-tailed.\n",
    "Other way around for negative skewness.\n",
    "'''\n",
    "skewness = skew(a, axis=0, bias=True)\n",
    "print(\"Skewness is:\",skewness)\n",
    "\n",
    "'''\n",
    "Kurtosis is the measure of the peakness of data\n",
    "'''\n",
    "kurtosis = kurtosis(a, axis=0, fisher=True, bias=True)\n",
    "print(\"Kurtosis is\", kurtosis)"
   ]
  },
  {
   "cell_type": "code",
   "execution_count": 10,
   "metadata": {
    "collapsed": false
   },
   "outputs": [
    {
     "name": "stdout",
     "output_type": "stream",
     "text": [
      "Variance is 1386.13888889\n"
     ]
    }
   ],
   "source": [
    "'''\n",
    "Variance is sum of square of distances of points from mean divided by number of samples.\n",
    "(E (x - u)^2)/n\n",
    "'''\n",
    "variance = np.var(a)\n",
    "print(\"Variance is\",variance)"
   ]
  },
  {
   "cell_type": "code",
   "execution_count": 11,
   "metadata": {
    "collapsed": false
   },
   "outputs": [
    {
     "name": "stdout",
     "output_type": "stream",
     "text": [
      "Slope/Beta is 17.5714285714\n"
     ]
    }
   ],
   "source": [
    "\"\"\"\n",
    "Regression analysis or beta is the slope of the data (stock prices).\n",
    "\"\"\"\n",
    "x = np.arange(0,len(a),1)\n",
    "slope, intercept, r_value, p_value, std_err = stats.linregress(x,a)\n",
    "print(\"Slope/Beta is\", slope)"
   ]
  },
  {
   "cell_type": "code",
   "execution_count": 13,
   "metadata": {
    "collapsed": false
   },
   "outputs": [
    {
     "name": "stdout",
     "output_type": "stream",
     "text": [
      "Standard deviation is 37.2308862222\n"
     ]
    }
   ],
   "source": [
    "'''\n",
    "Standard devaiation is square root of variance\n",
    "'''\n",
    "std = np.std(a)\n",
    "print(\"Standard deviation is\",std)"
   ]
  }
 ],
 "metadata": {
  "kernelspec": {
   "display_name": "Python 3",
   "language": "python",
   "name": "python3"
  },
  "language_info": {
   "codemirror_mode": {
    "name": "ipython",
    "version": 3
   },
   "file_extension": ".py",
   "mimetype": "text/x-python",
   "name": "python",
   "nbconvert_exporter": "python",
   "pygments_lexer": "ipython3",
   "version": "3.6.8"
  }
 },
 "nbformat": 4,
 "nbformat_minor": 2
}
