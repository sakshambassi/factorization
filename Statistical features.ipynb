{
 "cells": [
  {
   "cell_type": "code",
   "execution_count": 1,
   "metadata": {
    "ExecuteTime": {
     "end_time": "2019-03-04T20:47:01.850426Z",
     "start_time": "2019-03-05T02:17:01.410443+05:30"
    }
   },
   "outputs": [],
   "source": [
    "from scipy.stats import skew, kurtosis\n",
    "import numpy as np\n",
    "import matplotlib.pyplot as plt\n",
    "from scipy import stats\n",
    "%matplotlib inline\n",
    "import pandas as pd"
   ]
  },
  {
   "cell_type": "code",
   "execution_count": 44,
   "metadata": {},
   "outputs": [
    {
     "name": "stdout",
     "output_type": "stream",
     "text": [
      "Mean is 37.1666666667\n",
      "Skewness is: 0.16999752201785548\n",
      "Kurtosis is -1.7531393355613718\n"
     ]
    }
   ],
   "source": [
    "a = np.array([0,1,2,90,60,70])\n",
    "\n",
    "'''\n",
    "Mean is average of all the data points.\n",
    "'''\n",
    "mean = np.mean(a)\n",
    "print(\"Mean is\",mean)\n",
    "\n",
    "'''\n",
    "Skewness is the measure of asymmetry of a distribution of a random variable around its mean.\n",
    "If skewness > 0, the weight of the distribution is concentrated on the left, and distribution is left-tailed.\n",
    "Other way around for negative skewness.\n",
    "'''\n",
    "skewness = skew(a, axis=0, bias=True)\n",
    "print(\"Skewness is:\",skewness)\n",
    "\n",
    "'''\n",
    "Kurtosis is the measure of the peakness of data\n",
    "'''\n",
    "kurtosis = kurtosis(a, axis=0, fisher=True, bias=True)\n",
    "print(\"Kurtosis is\", kurtosis)"
   ]
  },
  {
   "cell_type": "code",
   "execution_count": 10,
   "metadata": {},
   "outputs": [
    {
     "name": "stdout",
     "output_type": "stream",
     "text": [
      "Variance is 1386.13888889\n"
     ]
    }
   ],
   "source": [
    "'''\n",
    "Variance is sum of square of distances of points from mean divided by number of samples.\n",
    "(E (x - u)^2)/n\n",
    "'''\n",
    "variance = np.var(a)\n",
    "print(\"Variance is\",variance)"
   ]
  },
  {
   "cell_type": "code",
   "execution_count": 11,
   "metadata": {},
   "outputs": [
    {
     "name": "stdout",
     "output_type": "stream",
     "text": [
      "Slope/Beta is 17.5714285714\n"
     ]
    }
   ],
   "source": [
    "\"\"\"\n",
    "Regression analysis or beta is the slope of the data (stock prices).\n",
    "\"\"\"\n",
    "x = np.arange(0,len(a),1)\n",
    "slope, intercept, r_value, p_value, std_err = stats.linregress(x,a)\n",
    "print(\"Slope/Beta is\", slope)"
   ]
  },
  {
   "cell_type": "code",
   "execution_count": 13,
   "metadata": {},
   "outputs": [
    {
     "name": "stdout",
     "output_type": "stream",
     "text": [
      "Standard deviation is 37.2308862222\n"
     ]
    }
   ],
   "source": [
    "'''\n",
    "Standard devaiation is square root of variance\n",
    "'''\n",
    "std = np.std(a)\n",
    "print(\"Standard deviation is\",std)"
   ]
  },
  {
   "cell_type": "code",
   "execution_count": 29,
   "metadata": {
    "ExecuteTime": {
     "end_time": "2019-03-04T19:43:21.234587Z",
     "start_time": "2019-03-05T01:13:21.231498+05:30"
    },
    "collapsed": true
   },
   "outputs": [],
   "source": [
    "from statsmodels.tsa.ar_model import AR\n",
    "\n",
    "signal = np.linspace(0,100, 500)\n",
    "ar_mod = AR(signal)"
   ]
  },
  {
   "cell_type": "code",
   "execution_count": 30,
   "metadata": {
    "ExecuteTime": {
     "end_time": "2019-03-04T19:42:58.903409Z",
     "start_time": "2019-03-05T01:12:58.893290+05:30"
    }
   },
   "outputs": [
    {
     "name": "stdout",
     "output_type": "stream",
     "text": [
      "<statsmodels.tsa.ar_model.AR object at 0x7fc1607c0438>\n",
      "[  0.80160321   1.00200401   1.20240481   1.40280561   1.60320641\n",
      "   1.80360721   2.00400802   2.20440882   2.40480962   2.60521042\n",
      "   2.80561122   3.00601202   3.20641283   3.40681363   3.60721443\n",
      "   3.80761523   4.00801603   4.20841683   4.40881764   4.60921844\n",
      "   4.80961924   5.01002004   5.21042084   5.41082164   5.61122244\n",
      "   5.81162325   6.01202405   6.21242485   6.41282565   6.61322645\n",
      "   6.81362725   7.01402806   7.21442886   7.41482966   7.61523046\n",
      "   7.81563126   8.01603206   8.21643287   8.41683367   8.61723447\n",
      "   8.81763527   9.01803607   9.21843687   9.41883768   9.61923848\n",
      "   9.81963928  10.02004008  10.22044088  10.42084168  10.62124248\n",
      "  10.82164329  11.02204409  11.22244489  11.42284569  11.62324649\n",
      "  11.82364729  12.0240481 ]\n",
      "[  0.80160321   1.00200401   1.20240481   1.40280561   1.60320641\n",
      "   1.80360721   2.00400802   2.20440882   2.40480962   2.60521042\n",
      "   2.80561122   3.00601202   3.20641283   3.40681363   3.60721443\n",
      "   3.80761523   4.00801603   4.20841683   4.40881764   4.60921844\n",
      "   4.80961924   5.01002004   5.21042084   5.41082164   5.61122244\n",
      "   5.81162325   6.01202405   6.21242485   6.41282565   6.61322645\n",
      "   6.81362725   7.01402806   7.21442886   7.41482966   7.61523046\n",
      "   7.81563126   8.01603206   8.21643287   8.41683367   8.61723447\n",
      "   8.81763527   9.01803607   9.21843687   9.41883768   9.61923848\n",
      "   9.81963928  10.02004008  10.22044088  10.42084168  10.62124248\n",
      "  10.82164329  11.02204409  11.22244489  11.42284569  11.62324649\n",
      "  11.82364729]\n"
     ]
    }
   ],
   "source": [
    "print(ar_mod)\n",
    "ar_res = ar_mod.fit(4)\n",
    "\n",
    "print(ar_res.predict(4, 60))\n",
    "print(signal[4:60])"
   ]
  },
  {
   "cell_type": "code",
   "execution_count": 3,
   "metadata": {
    "ExecuteTime": {
     "end_time": "2019-03-04T20:47:22.573888Z",
     "start_time": "2019-03-05T02:17:22.558191+05:30"
    }
   },
   "outputs": [
    {
     "name": "stdout",
     "output_type": "stream",
     "text": [
      "EMA is 99.8663994656\n"
     ]
    }
   ],
   "source": [
    "\"\"\"\n",
    "Exponential Moving Average is calculated for each value, which is based on previous value's EMA and current price. \n",
    "Hence the code will return an array of same length, but we need to pick up the last day's value. \n",
    "\"\"\"\n",
    "\n",
    "df = pd.DataFrame({'A' : np.linspace(0,100,500)})\n",
    "\n",
    "\n",
    "ema = df.ewm(alpha = 0.6).mean().iloc[-1,0]\n",
    "print(\"EMA is\", ema)"
   ]
  },
  {
   "cell_type": "markdown",
   "metadata": {},
   "source": [
    "# Returns all the features"
   ]
  },
  {
   "cell_type": "code",
   "execution_count": 9,
   "metadata": {
    "ExecuteTime": {
     "end_time": "2019-03-04T21:01:00.431468Z",
     "start_time": "2019-03-05T02:31:00.411831+05:30"
    }
   },
   "outputs": [
    {
     "name": "stdout",
     "output_type": "stream",
     "text": [
      "[ 1.          0.         -1.5         0.66666667  0.81649658  1.\n",
      "  1.53846154]\n",
      "[ 3.          0.         -1.5         0.66666667  0.81649658  1.\n",
      "  3.53846154]\n"
     ]
    }
   ],
   "source": [
    "a = np.array([[0,1,2],[2,3,4]])\n",
    "Feature_array = []\n",
    "for row in range(0,a.shape[0]):\n",
    "    mean = np.mean(a[row])\n",
    "    f = np.array([mean])\n",
    "    skewness = skew(a[row], axis=0, bias=True)\n",
    "    f = np.append(f, skewness)\n",
    "    kurt = kurtosis(a[row], axis=0, fisher=True, bias=True)\n",
    "    f= np.append(f, kurt)\n",
    "    variance = np.var(a[row])\n",
    "    f = np.append(f, variance)\n",
    "    std = np.std(a[row])\n",
    "    f = np.append(f, std)\n",
    "    x = np.arange(0,len(a[row]),1)\n",
    "    slope, intercept, r_value, p_value, std_err = stats.linregress(x,a[row])\n",
    "    f = np.append(f, slope)\n",
    "    df = pd.DataFrame({'A' : a[row]})\n",
    "    f = np.append(f,df.ewm(alpha = 0.6).mean().iloc[-1,0])\n",
    "    print(f)\n",
    "    Feature_array.append(f)"
   ]
  },
  {
   "cell_type": "code",
   "execution_count": 61,
   "metadata": {},
   "outputs": [],
   "source": [
    "Feature_array = np.asarray(Feature_array)"
   ]
  }
 ],
 "metadata": {
  "kernelspec": {
   "display_name": "Python 3",
   "language": "python",
   "name": "python3"
  },
  "language_info": {
   "codemirror_mode": {
    "name": "ipython",
    "version": 3
   },
   "file_extension": ".py",
   "mimetype": "text/x-python",
   "name": "python",
   "nbconvert_exporter": "python",
   "pygments_lexer": "ipython3",
   "version": "3.6.8"
  }
 },
 "nbformat": 4,
 "nbformat_minor": 2
}
